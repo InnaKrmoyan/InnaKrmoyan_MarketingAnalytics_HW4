{
 "cells": [
  {
   "cell_type": "code",
   "execution_count": null,
   "id": "7273c6bf",
   "metadata": {},
   "outputs": [],
   "source": [
    "import pandas as pd\n",
    "import numpy as np\n",
    "import networkx as nx\n",
    "import matplotlib.pyplot as plt\n",
    "import community\n",
    "from networkx.algorithms.community import girvan_newman"
   ]
  },
  {
   "cell_type": "code",
   "execution_count": null,
   "id": "7df4a0ec",
   "metadata": {},
   "outputs": [],
   "source": [
    "file_path = \"connections.txt\"\n",
    "with open(file_path, \"r\") as file:\n",
    "    edges = [line.strip().split() for line in file]"
   ]
  },
  {
   "cell_type": "code",
   "execution_count": null,
   "id": "3f57bdd3",
   "metadata": {},
   "outputs": [],
   "source": [
    "# Create a directed graph\n",
    "graph = nx.DiGraph()\n",
    "graph.add_edges_from(edges)"
   ]
  },
  {
   "cell_type": "code",
   "execution_count": null,
   "id": "3943da39",
   "metadata": {},
   "outputs": [],
   "source": [
    "def dfs(graph, node, discovery_time, low_link, visited, parent, bridges):\n",
    "    visited[node] = True\n",
    "    discovery_time[node] = dfs.time\n",
    "    low_link[node] = dfs.time\n",
    "    dfs.time += 1\n",
    "\n",
    "    for neighbor in graph.neighbors(node):\n",
    "        if not visited[neighbor]:\n",
    "            dfs(graph, neighbor, discovery_time, low_link, visited, node, bridges)\n",
    "            low_link[node] = min(low_link[node], low_link[neighbor])\n",
    "\n",
    "            if low_link[neighbor] > discovery_time[node]:\n",
    "                bridges.append((node, neighbor))\n",
    "        elif neighbor != parent:\n",
    "            low_link[node] = min(low_link[node], discovery_time[neighbor])"
   ]
  },
  {
   "cell_type": "code",
   "execution_count": null,
   "id": "a6205f88",
   "metadata": {},
   "outputs": [],
   "source": [
    "# Tarjan's algorithm\n",
    "dfs.time = 0\n",
    "discovery_time = {node: -1 for node in graph.nodes}\n",
    "low_link = {node: -1 for node in graph.nodes}\n",
    "visited = {node: False for node in graph.nodes}\n",
    "bridges = []\n",
    "\n",
    "for node in graph.nodes:\n",
    "    if not visited[node]:\n",
    "        dfs(graph, node, discovery_time, low_link, visited, None, bridges)\n",
    "\n",
    "print(\"Bridges:\", bridges)"
   ]
  },
  {
   "cell_type": "code",
   "execution_count": null,
   "id": "e60dbbd9",
   "metadata": {},
   "outputs": [],
   "source": [
    "graph_density = nx.density(graph)\n",
    "print(\"Graph Density:\", graph_density)"
   ]
  },
  {
   "cell_type": "markdown",
   "id": "5c8d095b",
   "metadata": {},
   "source": [
    "The graph density of 0.0054 indicates, that the graph is sparse, so only a small fraction of possible connections between nodes is present."
   ]
  },
  {
   "cell_type": "code",
   "execution_count": null,
   "id": "3b38d4c4",
   "metadata": {},
   "outputs": [],
   "source": [
    "# Calculating degrees for each node\n",
    "degrees = dict(graph.degree())\n",
    "\n",
    "max_degree_node = max(degrees, key=degrees.get)\n",
    "min_degree_node = min(degrees, key=degrees.get)\n",
    "\n",
    "print(\"Node with the Highest Degree:\", max_degree_node, \"Degree:\", degrees[max_degree_node])\n",
    "print(\"Node with the Lowest Degree:\", min_degree_node, \"Degree:\", degrees[min_degree_node])"
   ]
  },
  {
   "cell_type": "code",
   "execution_count": null,
   "id": "c5f68083",
   "metadata": {},
   "outputs": [],
   "source": [
    "# Calculating in-degrees and out-degrees for each node\n",
    "in_degrees = dict(graph.in_degree())\n",
    "out_degrees = dict(graph.out_degree())\n",
    "\n",
    "max_in_degree_node = max(in_degrees, key=in_degrees.get)\n",
    "max_out_degree_node = max(out_degrees, key=out_degrees.get)\n",
    "\n",
    "print(\"Node with the Highest In-Degree:\", max_in_degree_node, \"In-Degree:\", in_degrees[max_in_degree_node])\n",
    "print(\"Node with the Highest Out-Degree:\", max_out_degree_node, \"Out-Degree:\", out_degrees[max_out_degree_node])"
   ]
  },
  {
   "cell_type": "code",
   "execution_count": null,
   "id": "2b4be931",
   "metadata": {},
   "outputs": [],
   "source": [
    "# Calculate centrality measures\n",
    "closeness_centralities = nx.closeness_centrality(graph)\n",
    "betweenness_centralities = nx.betweenness_centrality(graph)\n",
    "\n",
    "eigenvector_centralities = nx.eigenvector_centrality(graph, max_iter=500)\n",
    "\n",
    "# Finding nodes with the highest closeness, betweenness, and eigenvector centralities\n",
    "max_closeness_node = max(closeness_centralities, key=closeness_centralities.get)\n",
    "max_betweenness_node = max(betweenness_centralities, key=betweenness_centralities.get)\n",
    "max_eigenvector_node = max(eigenvector_centralities, key=eigenvector_centralities.get)\n",
    "\n",
    "print(\"Node with the Highest Closeness Centrality:\", max_closeness_node, \"Closeness Centrality:\", closeness_centralities[max_closeness_node])\n",
    "print(\"Node with the Highest Betweenness Centrality:\", max_betweenness_node, \"Betweenness Centrality:\", betweenness_centralities[max_betweenness_node])\n",
    "print(\"Node with the Highest Eigenvector Centrality:\", max_eigenvector_node, \"Eigenvector Centrality:\", eigenvector_centralities[max_eigenvector_node])\n"
   ]
  },
  {
   "cell_type": "markdown",
   "id": "5f614968",
   "metadata": {},
   "source": [
    "#### Closeness Centrality:\n",
    "\n",
    "Node 2642 has the highest closeness centrality with a value of 0.117975. Node 2642 is relatively central in terms of closeness, indicating that it can efficiently reach other nodes in the network.\n",
    "\n",
    "#### Betweenness Centrality:\n",
    "\n",
    "Node 1684 has the highest betweenness centrality with a value of 0.032999. Node 1684 plays a crucial role in connecting different parts of the network, serving as a bridge in the flow of information.\n",
    "\n",
    "#### Eigenvector Centrality:\n",
    "\n",
    "Node 2655 has the highest eigenvector centrality with a value of 0.802704. Node 2655 is considered highly central in terms of eigenvector centrality, suggesting that it is connected to other nodes that are themselves well-connected."
   ]
  },
  {
   "cell_type": "code",
   "execution_count": null,
   "id": "b69126fc",
   "metadata": {},
   "outputs": [],
   "source": [
    "undirected_graph = graph.to_undirected()\n",
    "\n",
    "# Performing community detection using the Louvain method\n",
    "partition = community.best_partition(undirected_graph)\n",
    "num_communities = max(partition.values()) + 1\n",
    "\n",
    "print(\"Number of Communities:\", num_communities)"
   ]
  },
  {
   "cell_type": "code",
   "execution_count": null,
   "id": "9084ee71",
   "metadata": {},
   "outputs": [],
   "source": [
    "# Calculating the sizes of each community\n",
    "community_sizes = {community_id: sum(1 for node in partition if partition[node] == community_id) for community_id in set(partition.values())}\n",
    "\n",
    "largest_community_id = max(community_sizes, key=community_sizes.get)\n",
    "smallest_community_id = min(community_sizes, key=community_sizes.get)\n",
    "\n",
    "print(\"Size of the Largest Community (Community ID:\", largest_community_id, \"):\", community_sizes[largest_community_id])\n",
    "print(\"Size of the Smallest Community (Community ID:\", smallest_community_id, \"):\", community_sizes[smallest_community_id])"
   ]
  },
  {
   "cell_type": "markdown",
   "id": "a0ad6a63",
   "metadata": {},
   "source": [
    "ID 5 is the Largest Community\n",
    "\n",
    "ID 3 is the Smallest Community"
   ]
  },
  {
   "cell_type": "code",
   "execution_count": null,
   "id": "1aa8831e",
   "metadata": {},
   "outputs": [],
   "source": [
    "# Finding the largest three communities\n",
    "largest_communities = sorted(community_sizes, key=community_sizes.get, reverse=True)[:3]\n",
    "\n",
    "plt.figure(figsize=(15, 5))\n",
    "for i, community_id in enumerate(largest_communities, 1):\n",
    "    plt.subplot(1, 3, i)\n",
    "    \n",
    "    community_nodes = [node for node in graph.nodes() if partition[node] == community_id]\n",
    "    subgraph = graph.subgraph(community_nodes)\n",
    "    \n",
    "    pos = nx.spring_layout(subgraph)\n",
    "    nx.draw(subgraph, pos, with_labels=True, font_weight='bold', node_size=700, node_color=\"skyblue\", arrowsize=15)\n",
    "    plt.title(f\"Community {community_id}\")\n",
    "\n",
    "plt.tight_layout()\n",
    "plt.show()"
   ]
  },
  {
   "cell_type": "code",
   "execution_count": null,
   "id": "a2774bd9",
   "metadata": {
    "scrolled": false
   },
   "outputs": [],
   "source": [
    "centrality_measures = ['degree_centrality', 'closeness_centrality', 'betweenness_centrality']\n",
    "\n",
    "for measure in centrality_measures:\n",
    "    plt.figure(figsize=(15, 5))\n",
    "    \n",
    "    for i, community_id in enumerate(largest_communities, 1):\n",
    "        plt.subplot(1, 3, i)\n",
    "        \n",
    "        if measure == 'degree_centrality':\n",
    "            centrality_values = dict(nx.degree_centrality(graph.subgraph(community_nodes)))\n",
    "        elif measure == 'closeness_centrality':\n",
    "            centrality_values = dict(nx.closeness_centrality(graph.subgraph(community_nodes)))\n",
    "        elif measure == 'betweenness_centrality':\n",
    "            centrality_values = dict(nx.betweenness_centrality(graph.subgraph(community_nodes)))\n",
    "        \n",
    "        # Removing the top 3 nodes based on centrality measure\n",
    "        top_nodes = sorted(centrality_values, key=centrality_values.get, reverse=True)[:3]\n",
    "        graph.remove_nodes_from(top_nodes)\n",
    "        \n",
    "        pos = nx.spring_layout(graph)\n",
    "        nx.draw(graph, pos, with_labels=True, font_weight='bold', node_size=700, node_color=\"skyblue\", arrowsize=15)\n",
    "        plt.title(f\"Top 3 Nodes Removed ({measure.capitalize()}) in Community {community_id}\")\n",
    "    \n",
    "    plt.tight_layout()\n",
    "    plt.show()"
   ]
  },
  {
   "cell_type": "code",
   "execution_count": null,
   "id": "69415550",
   "metadata": {},
   "outputs": [],
   "source": [
    "influencers = {}\n",
    "centrality_measures = ['degree_centrality', 'closeness_centrality', 'betweenness_centrality']\n",
    "\n",
    "for measure in centrality_measures:\n",
    "    influencers[measure] = {}\n",
    "    \n",
    "    for community_id in largest_communities:\n",
    "        community_nodes = [node for node in graph.nodes() if partition[node] == community_id]\n",
    "        \n",
    "        # Calculate centrality for each node in the community\n",
    "        if measure == 'degree_centrality':\n",
    "            centrality_values = dict(nx.degree_centrality(graph.subgraph(community_nodes)))\n",
    "        elif measure == 'closeness_centrality':\n",
    "            centrality_values = dict(nx.closeness_centrality(graph.subgraph(community_nodes)))\n",
    "        elif measure == 'betweenness_centrality':\n",
    "            centrality_values = dict(nx.betweenness_centrality(graph.subgraph(community_nodes)))\n",
    "        \n",
    "        # Identify the node with the highest centrality in the community\n",
    "        top_node = max(centrality_values, key=centrality_values.get)\n",
    "        influencers[measure][community_id] = top_node\n",
    "\n",
    "# Draw the graph highlighting the influencers\n",
    "plt.figure(figsize=(15, 7))\n",
    "\n",
    "for i, measure in enumerate(centrality_measures, 1):\n",
    "    plt.subplot(1, 3, i)\n",
    "    pos = nx.spring_layout(graph)\n",
    "    nx.draw(graph, pos, with_labels=True, font_weight='bold', node_size=700, node_color=\"skyblue\", arrowsize=15)\n",
    "\n",
    "    for community_id, influencer in influencers[measure].items():\n",
    "        nx.draw_networkx_nodes(graph, pos, nodelist=[influencer], node_color=\"red\", node_size=700)\n",
    "\n",
    "    plt.title(f\"Top Influencers ({measure.capitalize()})\")\n",
    "\n",
    "plt.tight_layout()\n",
    "plt.show()"
   ]
  },
  {
   "cell_type": "markdown",
   "id": "60b21d99",
   "metadata": {},
   "source": [
    "## Action Plan for Targeted Marketing Campaign\n",
    "\n",
    "**a) Hypothetical Business:**\n",
    "\n",
    "Let's consider \"SkyNet Mobile\", a growing telecom company aiming to increase market share and brand awareness.\n",
    "\n",
    "**b) Hypothetical Marketing Budget:**\n",
    "\n",
    "We'll set a budget of $1 million for the campaign, spread across a 3-month period.\n",
    "\n",
    "**c) Hypothetical Cost per Action (CPA):**\n",
    "\n",
    "- Facebook Ads: $0.50 per click\n",
    "- Instagram Ads: $1.00 per click\n",
    "- YouTube Ads: $0.20 per view\n",
    "- Influencer Marketing: $5,000 per post (estimated)\n",
    "\n",
    "**d) Target Audience:**\n",
    "\n",
    "Based on the hypothetical scenario and available budget, here are potential target segments:\n",
    "\n",
    "**1. Tech-Savvy Young Professionals:**\n",
    "\n",
    "* **Age:** 25-35\n",
    "* **Interests:** Technology, travel, social media, entertainment\n",
    "* **Channels:** Facebook Ads, Instagram Ads, YouTube Ads (Tech reviews, lifestyle content)\n",
    "* **Value Proposition:** Competitive data plans, bundled entertainment offers, innovative features\n",
    "\n",
    "**2. Value-Conscious Families:**\n",
    "\n",
    "* **Age:** 35-55\n",
    "* **Interests:** Family activities, affordability, reliability\n",
    "* **Channels:** Facebook Ads, TV Ads, Flyers in local stores\n",
    "* **Value Proposition:** Affordable family plans, parental control features, reliable network coverage\n",
    "\n",
    "**3. Rural Residents:**\n",
    "\n",
    "* **Age:** 35+\n",
    "* **Interests:** Affordable communication, local news, community\n",
    "* **Channels:** Radio Ads, Local Events Sponsorship, Mobile App Promotion\n",
    "* **Value Proposition:** Improved connectivity in rural areas, affordable call rates, community building initiatives\n",
    "\n",
    "**Campaign Strategies:**\n",
    "\n",
    "* **Personalized Messaging:** Tailor messages to each segment's interests and pain points.\n",
    "* **Multi-Channel Approach:** Utilize different channels to reach the target audience effectively.\n",
    "* **Content Marketing:** Create informative and engaging content relevant to each segment.\n",
    "* **Data-Driven Optimization:** Monitor campaign performance and adjust strategies based on results.\n",
    "\n",
    "**Metrics for Success:**\n",
    "\n",
    "* **Increase in website traffic and app downloads**\n",
    "* **Growth in social media engagement**\n",
    "* **Brand awareness surveys**\n",
    "* **New customer acquisition and retention rates**\n",
    "\n",
    "**Decision on Whom to Target:**\n",
    "\n",
    "The final decision on whom to target will depend on several factors, including:\n",
    "\n",
    "* **Budget:** Reaching a broader audience will require a higher budget.\n",
    "* **Competition:** Targeting a less saturated segment might be easier to achieve success.\n",
    "* **Potential ROI:** Focus on segments with higher potential return on investment.\n",
    "* **Long-Term Goals:** Align target segments with SkyNet Mobile's long-term growth strategy."
   ]
  }
 ],
 "metadata": {
  "kernelspec": {
   "display_name": "Python 3 (ipykernel)",
   "language": "python",
   "name": "python3"
  },
  "language_info": {
   "codemirror_mode": {
    "name": "ipython",
    "version": 3
   },
   "file_extension": ".py",
   "mimetype": "text/x-python",
   "name": "python",
   "nbconvert_exporter": "python",
   "pygments_lexer": "ipython3",
   "version": "3.9.7"
  }
 },
 "nbformat": 4,
 "nbformat_minor": 5
}
